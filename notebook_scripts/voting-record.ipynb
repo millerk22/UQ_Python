{
 "cells": [
  {
   "cell_type": "code",
   "execution_count": 1,
   "metadata": {
    "scrolled": true
   },
   "outputs": [
    {
     "name": "stdout",
     "output_type": "stream",
     "text": [
      "/home/hao/Desktop/working-directory/UQ_Python\n"
     ]
    }
   ],
   "source": [
    "%cd /home/hao/Desktop/working-directory/UQ_Python/\n",
    "import mlflow\n",
    "mlflow.set_tracking_uri('http://0.0.0.0:8000')\n",
    "mlflow.set_experiment('voting-record')\n",
    "query = 'attributes.status = \"FINISHED\" and tags.\"function\" = \"voting_record_test\"'\n",
    "df = mlflow.search_runs(filter_string=query)\n",
    "client = mlflow.tracking.MlflowClient()"
   ]
  },
  {
   "cell_type": "code",
   "execution_count": 2,
   "metadata": {
    "scrolled": true
   },
   "outputs": [
    {
     "name": "stderr",
     "output_type": "stream",
     "text": [
      "/home/hao/anaconda3/lib/python3.7/site-packages/ipykernel_launcher.py:4: MatplotlibDeprecationWarning: \n",
      "The text.latex.unicode rcparam was deprecated in Matplotlib 3.0 and will be removed in 3.2.\n",
      "  after removing the cwd from sys.path.\n"
     ]
    }
   ],
   "source": [
    "import matplotlib.pyplot as plt\n",
    "import matplotlib\n",
    "matplotlib.rcParams['text.usetex'] = True\n",
    "matplotlib.rcParams['text.latex.unicode'] = True\n",
    "matplotlib.rc('font', family='FreeSerif') \n",
    "matplotlib.rc('font', serif='regular')\n",
    "matplotlib.rcParams['font.size'] = 14\n",
    "plt.rcParams['figure.figsize'] = (10,10)\n",
    "import numpy as np\n",
    "markers = ['o','*', 'v', '^', '<', '>', '8', 's', 'p', 'h']"
   ]
  },
  {
   "cell_type": "code",
   "execution_count": null,
   "metadata": {
    "scrolled": false
   },
   "outputs": [],
   "source": [
    "T = np.power(0.6, range(5, 20))\n",
    "\n",
    "\n",
    "SIGMAS = df['params.sigma'].unique()\n",
    "\n",
    "for sigma in SIGMAS:\n",
    "    fixed_sigma = df[df['params.sigma'] == sigma]\n",
    "    i = 0\n",
    "    fig = plt.figure()\n",
    "    ax = fig.gca()\n",
    "    for idx, row in fixed_sigma.iterrows():\n",
    "        run_id = row['run_id']\n",
    "        data = [metric.value for metric in client.get_metric_history(run_id, 'bias_1')]\n",
    "        alpha = row['params.alpha']\n",
    "        ax.loglog(T, data)\n",
    "        ax.scatter(T, data, marker=markers[i], label=r'$\\alpha =$ %2.1f'% float(alpha))\n",
    "        i += 1\n",
    "    plt.legend(fontsize=15)\n",
    "    plt.xlabel(r'$\\tau$', fontsize=25)\n",
    "    plt.ylabel(r'$|C^*C_{\\tau, \\epsilon}^{-1}\\mathbf{u^\\dagger}|^2$', fontsize=25)\n",
    "    plt.title(r'$\\sigma = $ %2.2f'% float(sigma), fontsize=25)\n",
    "    ax.tick_params(axis='both', which='major', labelsize=15)\n",
    "    plt.tight_layout()\n",
    "    plt.show()"
   ]
  },
  {
   "cell_type": "code",
   "execution_count": null,
   "metadata": {
    "scrolled": true
   },
   "outputs": [],
   "source": [
    "T = np.power(0.6, range(5, 20))\n",
    "\n",
    "\n",
    "SIGMAS = df['params.sigma'].unique()\n",
    "\n",
    "for sigma in SIGMAS:\n",
    "    fixed_sigma = df[df['params.sigma'] == sigma]\n",
    "    i = 0\n",
    "    fig = plt.figure()\n",
    "    ax = fig.gca()\n",
    "    for idx, row in fixed_sigma.iterrows():\n",
    "        run_id = row['run_id']\n",
    "        data = [metric.value for metric in client.get_metric_history(run_id, 'trc')]\n",
    "        alpha = row['params.alpha']\n",
    "        ax.loglog(T, data)\n",
    "        ax.scatter(T, data, marker=markers[i], label=r'$\\alpha =$ %2.1f'% float(alpha))\n",
    "        i += 1\n",
    "    plt.legend(fontsize=15)\n",
    "    plt.xlabel(r'$\\tau$', fontsize=25)\n",
    "    plt.ylabel(r'$\\mathrm{Tr}(C)$', fontsize=25)\n",
    "    plt.title(r'$\\sigma = $ %2.2f'% float(sigma), fontsize=15)\n",
    "    ax.tick_params(axis='both', which='major', labelsize=15)\n",
    "    plt.tight_layout()\n",
    "    plt.show()"
   ]
  },
  {
   "cell_type": "code",
   "execution_count": 8,
   "metadata": {
    "scrolled": false
   },
   "outputs": [
    {
     "data": {
      "image/png": "[encoded data removed]",
      "text/plain": [
       "<Figure size 432x288 with 1 Axes>"
      ]
     },
     "metadata": {
      "needs_background": "light"
     },
     "output_type": "display_data"
    }
   ],
   "source": [
    "T = np.power(0.6, range(5, 20))\n",
    "\n",
    "ALPHAS = df['params.alpha'].unique()\n",
    "\n",
    "\n",
    "for j in range(2,3):\n",
    "    i = 0\n",
    "    fig = plt.figure()\n",
    "    ax = fig.gca()\n",
    "    for alpha in ALPHAS:\n",
    "        if float(alpha) > 1.5:\n",
    "            continue\n",
    "        fixed_alpha = df[df['params.alpha'] == alpha]\n",
    "        data = []\n",
    "        sigma = []\n",
    "        for idx, row in fixed_alpha.iterrows():\n",
    "            run_id = row['run_id']\n",
    "            data.append(client.get_metric_history(run_id, 'bias_2')[j].value)\n",
    "            #data.append(client.get_metric_history(run_id, 'bias_0')[j].value\n",
    "            #           +client.get_metric_history(run_id, 'bias_1')[j].value)\n",
    "            sigma.append(float(row['params.sigma']))\n",
    "        ax.plot(sigma, data)\n",
    "        ax.scatter(sigma, data, marker=markers[i], label=r'$\\alpha =$ %2.1f'% float(alpha))\n",
    "        ax.set_yscale('log')\n",
    "        ax.set_xscale('log')\n",
    "        i += 1\n",
    "    plt.legend(fontsize=15,loc='upper right')\n",
    "    plt.xlabel(r'$\\sigma$', fontsize=25)\n",
    "    plt.ylabel(r'$|C^*C_{\\tau, \\epsilon}^{-1}\\mathbf{u^\\dagger}|^2$', fontsize=25)\n",
    "    plt.title(r'$\\tau = $ %2.5f'% T[j], fontsize=25)\n",
    "    ax.tick_params(axis='both', which='major', labelsize=15)\n",
    "    plt.tight_layout()\n",
    "    plt.show()"
   ]
  },
  {
   "cell_type": "code",
   "execution_count": null,
   "metadata": {
    "scrolled": false
   },
   "outputs": [],
   "source": [
    "T = np.power(0.6, range(5, 20))\n",
    "\n",
    "ALPHAS = df['params.alpha'].unique()\n",
    "\n",
    "\n",
    "for j in range(len(T)):\n",
    "    i = 0\n",
    "    fig = plt.figure()\n",
    "    ax = fig.gca()\n",
    "    for alpha in ALPHAS:\n",
    "        fixed_alpha = df[df['params.alpha'] == alpha]\n",
    "        data = []\n",
    "        sigma = []\n",
    "        for idx, row in fixed_alpha.iterrows():\n",
    "            run_id = row['run_id']\n",
    "            data.append(client.get_metric_history(run_id, 'trc')[j].value)\n",
    "            sigma.append(float(row['params.sigma']))\n",
    "        ax.plot(sigma, data)\n",
    "        ax.scatter(sigma, data, marker=markers[i], label=r'$\\alpha =$ %2.1f'% float(alpha))\n",
    "        ax.set_yscale('log')\n",
    "        i += 1\n",
    "    plt.legend(fontsize=15)\n",
    "    plt.xlabel(r'$\\sigma$', fontsize=25)\n",
    "    plt.ylabel(r'$\\mathrm{Tr}(C)$', fontsize=25)\n",
    "    plt.title(r'$\\tau = $ %2.5f'% T[j], fontsize=25)\n",
    "    ax.tick_params(axis='both', which='major', labelsize=15)\n",
    "    plt.tight_layout()\n",
    "    plt.show()"
   ]
  },
  {
   "cell_type": "code",
   "execution_count": null,
   "metadata": {
    "scrolled": true
   },
   "outputs": [],
   "source": [
    "import os\n",
    "from util.mlflow_util import load_uri\n",
    "from datasets.Graph_manager import Graph_manager\n",
    "query = 'tags.\"function\" = \"data_loaders_mlflow.load_voting_records\"'\n",
    "df = mlflow.search_runs(filter_string=query)\n",
    "data = load_uri(os.path.join(df.iloc[0]['artifact_uri'], 'data'), 'data.npz')"
   ]
  },
  {
   "cell_type": "code",
   "execution_count": null,
   "metadata": {
    "scrolled": false
   },
   "outputs": [],
   "source": [
    "%cd /home/hao/Desktop/working-directory/UQ_Python/\n",
    "%load_ext autoreload\n",
    "%autoreload 2\n",
    "import numpy as np\n",
    "from run_experiments.voting_record_test import voting_record_test, compute_groundtruth_u\n",
    "T = np.power(0.6, range(5, 20))\n",
    "\n",
    "graph_params = {\n",
    "    'knn'      : None,\n",
    "    'sigma'    : 1.3,\n",
    "    'Ltype'    : 'normed',\n",
    "    'n_eigs'   : None,\n",
    "    'n_fid'    : {1:5, -1:5},\n",
    "}\n",
    "ALPHAS = [0.5, 0.75, 1, 1.25, 2, 2.5, 3, 8, 16]\n",
    "SIGMAS = [0.5 * i for i in range(1,62)]\n",
    "total = len(ALPHAS) * len(SIGMAS)\n",
    "ii = 0\n",
    "logs = [[0] * len(SIGMAS) for ii in range(len(ALPHAS))]\n",
    "for i, alpha in enumerate(ALPHAS):\n",
    "    for j, sigma in enumerate(SIGMAS):\n",
    "        ii += 1\n",
    "        print(\"{}/{}\".format(ii, total))\n",
    "        graph_params['sigma'] = sigma\n",
    "        graph_params['alpha'] = alpha\n",
    "        logs[i][j] = voting_record_test(graph_params, debug=True)\n"
   ]
  },
  {
   "cell_type": "code",
   "execution_count": null,
   "metadata": {
    "scrolled": false
   },
   "outputs": [],
   "source": []
  }
 ],
 "metadata": {
  "kernelspec": {
   "display_name": "Python 3",
   "language": "python",
   "name": "python3"
  },
  "language_info": {
   "codemirror_mode": {
    "name": "ipython",
    "version": 3
   },
   "file_extension": ".py",
   "mimetype": "text/x-python",
   "name": "python",
   "nbconvert_exporter": "python",
   "pygments_lexer": "ipython3",
   "version": "3.7.3"
  }
 },
 "nbformat": 4,
 "nbformat_minor": 2
}
